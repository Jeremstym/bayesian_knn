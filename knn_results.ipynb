{
 "cells": [
  {
   "cell_type": "code",
   "execution_count": 2,
   "metadata": {},
   "outputs": [],
   "source": [
    "%load_ext autoreload\n",
    "%autoreload 2"
   ]
  },
  {
   "cell_type": "code",
   "execution_count": 3,
   "metadata": {},
   "outputs": [],
   "source": [
    "from bayesian_model import metropolis_hastings\n",
    "from knn_baseline import iris "
   ]
  },
  {
   "cell_type": "code",
   "execution_count": 4,
   "metadata": {},
   "outputs": [],
   "source": [
    "data = iris.data\n",
    "target = iris.target"
   ]
  },
  {
   "cell_type": "code",
   "execution_count": 6,
   "metadata": {},
   "outputs": [
    {
     "data": {
      "text/plain": [
       "(3.5638128541036083, 20)"
      ]
     },
     "execution_count": 6,
     "metadata": {},
     "output_type": "execute_result"
    }
   ],
   "source": [
    "metropolis_hastings(target, data, niter=100, method=\"pseudo_likelihood\")"
   ]
  },
  {
   "cell_type": "code",
   "execution_count": 7,
   "metadata": {},
   "outputs": [
    {
     "name": "stderr",
     "output_type": "stream",
     "text": [
      "100%|██████████| 100/100 [01:10<00:00,  1.41it/s]\n"
     ]
    },
    {
     "data": {
      "text/plain": [
       "(3.328036391176332, 9)"
      ]
     },
     "execution_count": 7,
     "metadata": {},
     "output_type": "execute_result"
    }
   ],
   "source": [
    "metropolis_hastings(target, data, niter=100, method=\"pseudo_likelihood\")"
   ]
  },
  {
   "cell_type": "code",
   "execution_count": 8,
   "metadata": {},
   "outputs": [
    {
     "ename": "TypeError",
     "evalue": "'float' object cannot be interpreted as an integer",
     "output_type": "error",
     "traceback": [
      "\u001b[1;31m---------------------------------------------------------------------------\u001b[0m",
      "\u001b[1;31mTypeError\u001b[0m                                 Traceback (most recent call last)",
      "Cell \u001b[1;32mIn[8], line 1\u001b[0m\n\u001b[1;32m----> 1\u001b[0m metropolis_hastings(target, data, niter\u001b[39m=\u001b[39;49m\u001b[39m1e4\u001b[39;49m, method\u001b[39m=\u001b[39;49m\u001b[39m\"\u001b[39;49m\u001b[39mpseudo_likelihood\u001b[39;49m\u001b[39m\"\u001b[39;49m)\n",
      "File \u001b[1;32mc:\\Jérémie\\Fac_Ensae\\MVA\\Cours\\Bayesian ML\\Project\\repository\\bayesian_model.py:130\u001b[0m, in \u001b[0;36mmetropolis_hastings\u001b[1;34m(y, X, niter, method, burning)\u001b[0m\n\u001b[0;32m    127\u001b[0m k_old \u001b[39m=\u001b[39m nprd\u001b[39m.\u001b[39mrandint(max_neighbors\u001b[39m+\u001b[39m\u001b[39m1\u001b[39m)\n\u001b[0;32m    128\u001b[0m theta_old \u001b[39m=\u001b[39m nprd\u001b[39m.\u001b[39mnormal(\u001b[39m0\u001b[39m, tau2)\n\u001b[1;32m--> 130\u001b[0m \u001b[39mfor\u001b[39;00m \u001b[39miter\u001b[39m \u001b[39min\u001b[39;00m tqdm(\u001b[39mrange\u001b[39;49m(niter)):\n\u001b[0;32m    131\u001b[0m     k_new \u001b[39m=\u001b[39m uniform_k(k_old)[\u001b[39m0\u001b[39m]\n\u001b[0;32m    132\u001b[0m     theta_new \u001b[39m=\u001b[39m nprd\u001b[39m.\u001b[39mnormal(theta_old, tau2)\n",
      "\u001b[1;31mTypeError\u001b[0m: 'float' object cannot be interpreted as an integer"
     ]
    }
   ],
   "source": [
    "metropolis_hastings(target, data, niter=int(1e4), method=\"pseudo_likelihood\")"
   ]
  },
  {
   "cell_type": "code",
   "execution_count": null,
   "metadata": {},
   "outputs": [],
   "source": []
  }
 ],
 "metadata": {
  "kernelspec": {
   "display_name": "Python 3",
   "language": "python",
   "name": "python3"
  },
  "language_info": {
   "codemirror_mode": {
    "name": "ipython",
    "version": 3
   },
   "file_extension": ".py",
   "mimetype": "text/x-python",
   "name": "python",
   "nbconvert_exporter": "python",
   "pygments_lexer": "ipython3",
   "version": "3.9.13"
  },
  "orig_nbformat": 4
 },
 "nbformat": 4,
 "nbformat_minor": 2
}
